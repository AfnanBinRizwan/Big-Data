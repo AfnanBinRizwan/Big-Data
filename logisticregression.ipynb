{
  "nbformat": 4,
  "nbformat_minor": 0,
  "metadata": {
    "colab": {
      "provenance": []
    },
    "kernelspec": {
      "name": "python3",
      "display_name": "Python 3"
    },
    "language_info": {
      "name": "python"
    }
  },
  "cells": [
    {
      "cell_type": "code",
      "execution_count": 1,
      "metadata": {
        "id": "4uN63bpM_ZYD"
      },
      "outputs": [],
      "source": [
        "# 0) SHARED SETUP\n",
        "import pandas as pd\n",
        "import numpy as np\n",
        "\n",
        "from sklearn.model_selection import train_test_split, StratifiedKFold, GridSearchCV\n",
        "from sklearn.preprocessing import StandardScaler\n",
        "from sklearn.pipeline import Pipeline\n",
        "from sklearn.metrics import (\n",
        "    classification_report, confusion_matrix, roc_auc_score,\n",
        "    RocCurveDisplay, precision_recall_fscore_support\n",
        ")\n",
        "\n",
        "RANDOM_STATE = 42\n",
        "\n",
        "# ===== Load the (balanced) binary dataset =====\n",
        "df = pd.read_csv(\"diabetes_binary_5050split_health_indicators_BRFSS2015.csv\")\n",
        "\n",
        "# Target & features\n",
        "TARGET = \"Diabetes_binary\"\n",
        "X = df.drop(columns=[TARGET])\n",
        "y = df[TARGET].astype(int)\n",
        "\n",
        "# If you work on the multi-class dataset:\n",
        "# TARGET = \"Diabetes_012\"\n",
        "# df = pd.read_csv(\"diabetes_012_health_indicators_BRFSS2015.csv\")\n",
        "# y = df[TARGET].astype(int)\n",
        "# X = df.drop(columns=[TARGET])\n",
        "\n",
        "# Train/validation split\n",
        "X_train, X_test, y_train, y_test = train_test_split(\n",
        "    X, y, test_size=0.2, stratify=y, random_state=RANDOM_STATE\n",
        ")\n",
        "\n",
        "def evaluate(model, X_test, y_test, name=\"Model\"):\n",
        "    \"\"\"Prints core metrics and returns a dict for logging/aggregation.\"\"\"\n",
        "    y_pred = model.predict(X_test)\n",
        "    # For binary problems we can compute ROC-AUC on probabilities:\n",
        "    try:\n",
        "        y_proba = model.predict_proba(X_test)[:, 1]\n",
        "        auc = roc_auc_score(y_test, y_proba)\n",
        "    except Exception:\n",
        "        auc = np.nan\n",
        "\n",
        "    print(f\"\\n{name} — Classification report\")\n",
        "    print(classification_report(y_test, y_pred, digits=4))\n",
        "    print(\"Confusion matrix:\\n\", confusion_matrix(y_test, y_pred))\n",
        "    if not np.isnan(auc):\n",
        "        print(f\"ROC-AUC: {auc:.4f}\")\n",
        "\n",
        "    return {\n",
        "        \"model\": name,\n",
        "        \"roc_auc\": auc,\n",
        "        **{\n",
        "            f\"f1_{label}\": f1\n",
        "            for label, f1 in zip(\n",
        "                sorted(np.unique(y_test)),\n",
        "                precision_recall_fscore_support(y_test, y_pred, average=None)[2]\n",
        "            )\n",
        "        }\n",
        "    }\n"
      ]
    },
    {
      "cell_type": "code",
      "source": [
        "from sklearn.linear_model import LogisticRegression\n",
        "\n",
        "logreg_pipe = Pipeline([\n",
        "    (\"scaler\", StandardScaler()),\n",
        "    (\"clf\", LogisticRegression(\n",
        "        solver=\"lbfgs\",\n",
        "        max_iter=2000,\n",
        "        multi_class=\"auto\",  # 'multinomial' for Diabetes_012, 'auto' handles both\n",
        "        class_weight=None    # set to 'balanced' for imbalanced (non-5050) data\n",
        "    ))\n",
        "])\n",
        "\n",
        "logreg_pipe.fit(X_train, y_train)\n",
        "logreg_metrics = evaluate(logreg_pipe, X_test, y_test, \"Logistic Regression\")\n"
      ],
      "metadata": {
        "colab": {
          "base_uri": "https://localhost:8080/"
        },
        "id": "nUbfqzoQCUV2",
        "outputId": "c8ff67d2-2028-40f7-9cb6-1517d82d4c2b"
      },
      "execution_count": 2,
      "outputs": [
        {
          "output_type": "stream",
          "name": "stderr",
          "text": [
            "/usr/local/lib/python3.11/dist-packages/sklearn/linear_model/_logistic.py:1247: FutureWarning: 'multi_class' was deprecated in version 1.5 and will be removed in 1.7. From then on, it will always use 'multinomial'. Leave it to its default value to avoid this warning.\n",
            "  warnings.warn(\n"
          ]
        },
        {
          "output_type": "stream",
          "name": "stdout",
          "text": [
            "\n",
            "Logistic Regression — Classification report\n",
            "              precision    recall  f1-score   support\n",
            "\n",
            "           0     0.7551    0.7277    0.7411      7070\n",
            "           1     0.7372    0.7639    0.7503      7069\n",
            "\n",
            "    accuracy                         0.7458     14139\n",
            "   macro avg     0.7461    0.7458    0.7457     14139\n",
            "weighted avg     0.7461    0.7458    0.7457     14139\n",
            "\n",
            "Confusion matrix:\n",
            " [[5145 1925]\n",
            " [1669 5400]]\n",
            "ROC-AUC: 0.8232\n"
          ]
        }
      ]
    },
    {
      "cell_type": "code",
      "source": [
        "param_grid = {\n",
        "    \"clf__C\": [0.01, 0.1, 1, 10],\n",
        "    \"clf__penalty\": [\"l2\"],\n",
        "}\n",
        "cv = StratifiedKFold(n_splits=5, shuffle=True, random_state=RANDOM_STATE)\n",
        "grid_lr = GridSearchCV(logreg_pipe, param_grid, scoring=\"f1_macro\", cv=cv, n_jobs=-1)\n",
        "grid_lr.fit(X_train, y_train)\n",
        "best_lr = grid_lr.best_estimator_\n",
        "evaluate(best_lr, X_test, y_test, \"LogReg (Tuned)\")\n"
      ],
      "metadata": {
        "colab": {
          "base_uri": "https://localhost:8080/"
        },
        "id": "lXOKhr6fCbhE",
        "outputId": "3624d281-7066-424e-fdc2-1e880065c096"
      },
      "execution_count": 3,
      "outputs": [
        {
          "output_type": "stream",
          "name": "stderr",
          "text": [
            "/usr/local/lib/python3.11/dist-packages/sklearn/linear_model/_logistic.py:1247: FutureWarning: 'multi_class' was deprecated in version 1.5 and will be removed in 1.7. From then on, it will always use 'multinomial'. Leave it to its default value to avoid this warning.\n",
            "  warnings.warn(\n"
          ]
        },
        {
          "output_type": "stream",
          "name": "stdout",
          "text": [
            "\n",
            "LogReg (Tuned) — Classification report\n",
            "              precision    recall  f1-score   support\n",
            "\n",
            "           0     0.7551    0.7277    0.7411      7070\n",
            "           1     0.7372    0.7639    0.7503      7069\n",
            "\n",
            "    accuracy                         0.7458     14139\n",
            "   macro avg     0.7461    0.7458    0.7457     14139\n",
            "weighted avg     0.7461    0.7458    0.7457     14139\n",
            "\n",
            "Confusion matrix:\n",
            " [[5145 1925]\n",
            " [1669 5400]]\n",
            "ROC-AUC: 0.8232\n"
          ]
        },
        {
          "output_type": "execute_result",
          "data": {
            "text/plain": [
              "{'model': 'LogReg (Tuned)',\n",
              " 'roc_auc': np.float64(0.8232188552404137),\n",
              " 'f1_0': np.float64(0.7411408815903198),\n",
              " 'f1_1': np.float64(0.7503126302626094)}"
            ]
          },
          "metadata": {},
          "execution_count": 3
        }
      ]
    }
  ]
}